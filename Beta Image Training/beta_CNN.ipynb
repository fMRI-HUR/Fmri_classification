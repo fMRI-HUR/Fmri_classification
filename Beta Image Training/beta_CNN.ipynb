{
 "cells": [
  {
   "cell_type": "markdown",
   "metadata": {},
   "source": [
    "# 1. 预处理、制作数据集"
   ]
  },
  {
   "cell_type": "code",
   "execution_count": 1,
   "metadata": {},
   "outputs": [],
   "source": [
    "import numpy as np\n",
    "import matplotlib.pyplot as plt\n",
    "from torch.utils.data import Dataset\n",
    "import os\n",
    "import nibabel as nib\n",
    "import torch\n",
    "\n",
    "def normalization(data):\n",
    "    _range = np.nanmax(data) - np.nanmin(data)\n",
    "    data = (data - np.nanmin(data)) / _range\n",
    "    return data\n",
    "\n",
    "\n",
    "def standardization(data):\n",
    "    mu = np.mean(data, axis=0)\n",
    "    sigma = np.std(data, axis=0)\n",
    "    return (data - mu) / sigma\n",
    "\n"
   ]
  },
  {
   "cell_type": "code",
   "execution_count": 2,
   "metadata": {},
   "outputs": [
    {
     "name": "stdout",
     "output_type": "stream",
     "text": [
      "25\n",
      "torch.Size([1, 79, 79, 95])\n"
     ]
    }
   ],
   "source": [
    "\n",
    "class beta_dataset(Dataset):\n",
    "    def __init__(self,rootdir):\n",
    "        self.classes = ['HRP','HC']\n",
    "        self.samples = []\n",
    "        for label in os.listdir(rootdir):\n",
    "            for sample in os.listdir(os.path.join(rootdir,label)):\n",
    "                \n",
    "                ''' get label '''\n",
    "                if label == 'HRP':\n",
    "                    sample_label = 0\n",
    "                else:\n",
    "                    sample_label = 1\n",
    "                    \n",
    "                ''' preprocessing '''\n",
    "                rawimg = nib.load(os.path.join(rootdir,label,sample))\n",
    "                rawimg = np.array(rawimg.get_fdata())\n",
    "                rawimg = normalization(rawimg)\n",
    "                is_nan = np.isnan(rawimg)\n",
    "                rawimg[is_nan] = 0\n",
    "                tensorimg = torch.from_numpy(rawimg)\n",
    "                tensorimg = tensorimg.permute(2,0,1)\n",
    "                tensorimg_ex = torch.empty(1,79,79,95)\n",
    "                tensorimg_ex[0] = tensorimg\n",
    "                \n",
    "                self.samples.append((tensorimg_ex,sample_label))\n",
    "    def __len__(self):\n",
    "        return len(self.samples)\n",
    "    \n",
    "    def __getitem__(self,idx):\n",
    "        return self.samples[idx]\n",
    "\n",
    "dataset = beta_dataset('D:\\\\betadata')\n",
    "\n",
    "print(len(dataset))\n",
    "print(dataset[2][0].shape)"
   ]
  },
  {
   "cell_type": "markdown",
   "metadata": {},
   "source": [
    "## 数据集可视化"
   ]
  },
  {
   "cell_type": "code",
   "execution_count": 3,
   "metadata": {},
   "outputs": [
    {
     "name": "stdout",
     "output_type": "stream",
     "text": [
      "tensor([[0., 0., 0.,  ..., 0., 0., 0.],\n",
      "        [0., 0., 0.,  ..., 0., 0., 0.],\n",
      "        [0., 0., 0.,  ..., 0., 0., 0.],\n",
      "        ...,\n",
      "        [0., 0., 0.,  ..., 0., 0., 0.],\n",
      "        [0., 0., 0.,  ..., 0., 0., 0.],\n",
      "        [0., 0., 0.,  ..., 0., 0., 0.]])\n"
     ]
    },
    {
     "data": {
      "image/png": "[encoded data removed]",
      "text/plain": [
       "<Figure size 432x288 with 1 Axes>"
      ]
     },
     "metadata": {
      "needs_background": "light"
     },
     "output_type": "display_data"
    }
   ],
   "source": [
    "img_vi = dataset[0][0][0,25,:,:]\n",
    "plt.imshow(img_vi,cmap='Greys')\n",
    "print(img_vi)"
   ]
  },
  {
   "cell_type": "markdown",
   "metadata": {},
   "source": [
    "## Dataloader 以及 可视化"
   ]
  },
  {
   "cell_type": "code",
   "execution_count": 4,
   "metadata": {},
   "outputs": [
    {
     "name": "stdout",
     "output_type": "stream",
     "text": [
      "torch.Size([3, 1, 79, 79, 95])\n",
      "torch.Size([83, 293, 3])\n"
     ]
    },
    {
     "data": {
      "text/plain": [
       "<matplotlib.image.AxesImage at 0x2115a51ae10>"
      ]
     },
     "execution_count": 4,
     "metadata": {},
     "output_type": "execute_result"
    },
    {
     "data": {
      "image/png": "[encoded data removed]",
      "text/plain": [
       "<Figure size 432x288 with 1 Axes>"
      ]
     },
     "metadata": {
      "needs_background": "light"
     },
     "output_type": "display_data"
    }
   ],
   "source": [
    "from torch.utils.data import DataLoader\n",
    "import torchvision\n",
    "dataloader = DataLoader(dataset, batch_size =3, shuffle = True,num_workers=0)\n",
    "\n",
    "img_vi2 = next(iter(dataloader))\n",
    "print(img_vi2[0].shape)\n",
    "\n",
    "img_vi2_axial = img_vi2[0][:,:,25,:,:]\n",
    "showimg = torchvision.utils.make_grid(img_vi2_axial)\n",
    "showimg = showimg.permute(1,2,0)\n",
    "print(showimg.shape)\n",
    "plt.imshow(showimg)"
   ]
  },
  {
   "cell_type": "markdown",
   "metadata": {},
   "source": [
    "# 2. 构建CNN网络，训练"
   ]
  },
  {
   "cell_type": "code",
   "execution_count": 5,
   "metadata": {},
   "outputs": [],
   "source": [
    "import torch.nn as nn\n",
    "import torch.nn.functional as F\n",
    "\n",
    "class Net(nn.Module):\n",
    "    def __init__(self):\n",
    "        super().__init__()\n",
    "        self.conv1 = nn.Conv3d(in_channels=1,out_channels=3,kernel_size=3,stride=1,padding=1)\n",
    "        self.pool = nn.MaxPool3d(2,2)\n",
    "        self.conv2 = nn.Conv3d(in_channels=3,out_channels=6,kernel_size=3,stride=1,padding=1)\n",
    "        self.fc1 = nn.Linear(6*19*19*23,120)\n",
    "        self.fc2 = nn.Linear(120,84)\n",
    "        self.fc3 = nn.Linear(84,10)\n",
    "        self.fc4 = nn.Linear(10,2)\n",
    "        self.dropout = nn.Dropout(p=0.6)\n",
    "    def forward(self,x):\n",
    "        x = self.pool(F.relu(self.conv1(x)))\n",
    "        x = self.pool(F.relu(self.conv2(x)))\n",
    "        x = x.view(-1,6*19*19*23)\n",
    "        x = F.relu(self.fc1(x))\n",
    "        x = self.dropout(x)\n",
    "        x = F.relu(self.fc2(x))\n",
    "        x = self.dropout(x)\n",
    "        x = F.relu(self.fc3(x))\n",
    "        x = self.dropout(x)\n",
    "        x = self.fc4(x)\n",
    "        return x\n",
    "\n",
    "net = Net()"
   ]
  },
  {
   "cell_type": "code",
   "execution_count": 6,
   "metadata": {},
   "outputs": [],
   "source": [
    "import torch.optim as optim\n",
    "\n",
    "criterion = nn.CrossEntropyLoss()\n",
    "optimizer = optim.SGD(net.parameters(), lr =0.001, momentum= 0.9)"
   ]
  },
  {
   "cell_type": "code",
   "execution_count": 7,
   "metadata": {},
   "outputs": [
    {
     "name": "stdout",
     "output_type": "stream",
     "text": [
      "loss:0.698\n",
      "loss:0.696\n",
      "loss:0.687\n",
      "loss:0.654\n",
      "loss:0.719\n",
      "loss:0.624\n",
      "loss:0.709\n",
      "loss:0.665\n",
      "loss:0.736\n"
     ]
    }
   ],
   "source": [
    "for epoch in range(1):\n",
    "    \n",
    "    running_loss = 0.00\n",
    "    for i,data in enumerate(dataloader,0):\n",
    "        inputs, labels = data\n",
    "        \n",
    "        optimizer.zero_grad()\n",
    "        \n",
    "        \n",
    "        outputs = net(inputs)\n",
    "        loss = criterion(outputs, labels)\n",
    "        loss.backward()\n",
    "        optimizer.step()\n",
    "        \n",
    "        running_loss += loss.item()\n",
    "        print('loss:%.3f' % (running_loss))\n",
    "        running_loss = 0"
   ]
  },
  {
   "cell_type": "code",
   "execution_count": 8,
   "metadata": {},
   "outputs": [
    {
     "name": "stdout",
     "output_type": "stream",
     "text": [
      "tensor([[-0.2983, -0.2893],\n",
      "        [-0.2727, -0.3390],\n",
      "        [-0.3422, -0.2653]])\n",
      "tensor([1, 1, 1])\n",
      "tensor([[-0.3171, -0.2580],\n",
      "        [-0.3030, -0.2485],\n",
      "        [-0.2708, -0.2040]])\n",
      "tensor([1, 1, 0])\n",
      "tensor([[-0.2185, -0.2374],\n",
      "        [-0.2100, -0.2595],\n",
      "        [-0.3082, -0.2674]])\n",
      "tensor([0, 1, 0])\n",
      "tensor([[-0.2788, -0.2108],\n",
      "        [-0.2988, -0.2514],\n",
      "        [-0.2422, -0.3886]])\n",
      "tensor([1, 1, 0])\n",
      "tensor([[-0.2515, -0.4265],\n",
      "        [-0.2984, -0.2426],\n",
      "        [-0.1863, -0.3075]])\n",
      "tensor([0, 0, 0])\n",
      "tensor([[-0.2923, -0.2345],\n",
      "        [-0.1776, -0.2946],\n",
      "        [-0.2045, -0.4356]])\n",
      "tensor([1, 0, 0])\n",
      "tensor([[-0.2624, -0.3468],\n",
      "        [-0.0919, -0.4513],\n",
      "        [-0.1611, -0.3403]])\n",
      "tensor([1, 1, 0])\n",
      "tensor([[-0.2362, -0.4018],\n",
      "        [-0.1434, -0.3438],\n",
      "        [-0.2417, -0.3798]])\n",
      "tensor([1, 0, 1])\n",
      "tensor([[-0.1533, -0.3357]])\n",
      "tensor([0])\n",
      "Accuracy of the network on the images: 64 %\n"
     ]
    }
   ],
   "source": [
    "correct = 0\n",
    "total = 0\n",
    "with torch.no_grad():\n",
    "    for data in dataloader:\n",
    "        imgs, labs = data\n",
    "        outputs = net(imgs)\n",
    "        print(outputs)\n",
    "        print(labs)\n",
    "        ind, predicted = torch.max(outputs.data, 1)\n",
    "        total += labs.size(0)\n",
    "        correct += (predicted == labs).sum().item()\n",
    "\n",
    "print('Accuracy of the network on the images: %d %%' % (\n",
    "    100 * correct / total))"
   ]
  },
  {
   "cell_type": "code",
   "execution_count": 9,
   "metadata": {},
   "outputs": [],
   "source": [
    "Saving_path = 'D:/PYTORCH_CODE/beta_net.pth'\n",
    "torch.save(net.state_dict(),Saving_path)"
   ]
  },
  {
   "cell_type": "code",
   "execution_count": null,
   "metadata": {},
   "outputs": [],
   "source": []
  }
 ],
 "metadata": {
  "kernelspec": {
   "display_name": "Python 3",
   "language": "python",
   "name": "python3"
  },
  "language_info": {
   "codemirror_mode": {
    "name": "ipython",
    "version": 3
   },
   "file_extension": ".py",
   "mimetype": "text/x-python",
   "name": "python",
   "nbconvert_exporter": "python",
   "pygments_lexer": "ipython3",
   "version": "3.6.10"
  }
 },
 "nbformat": 4,
 "nbformat_minor": 2
}
